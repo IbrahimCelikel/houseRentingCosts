{
 "cells": [
  {
   "cell_type": "code",
   "execution_count": 1,
   "metadata": {},
   "outputs": [],
   "source": [
    "import pandas as pd\n",
    "import re"
   ]
  },
  {
   "cell_type": "code",
   "execution_count": 2,
   "metadata": {},
   "outputs": [],
   "source": [
    "pd.options.display.max_columns = None"
   ]
  },
  {
   "cell_type": "markdown",
   "metadata": {},
   "source": [
    "Merge Bursa, Antalya, and Ankara csv files"
   ]
  },
  {
   "cell_type": "code",
   "execution_count": 3,
   "metadata": {},
   "outputs": [],
   "source": [
    "df_ankara = pd.read_csv(r\"D:\\repositories\\repositories\\data_analysis&science\\HouseRentingPrices\\hepsiEmlakAnkara.csv\")\n",
    "df_antalya = pd.read_csv(r\"D:\\repositories\\repositories\\data_analysis&science\\HouseRentingPrices\\hepsiEmlakAntalya.csv\")\n",
    "df_bursa = pd.read_csv(r\"D:\\repositories\\repositories\\data_analysis&science\\HouseRentingPrices\\hepsiEmlakBursa.csv\")"
   ]
  },
  {
   "cell_type": "code",
   "execution_count": 4,
   "metadata": {},
   "outputs": [],
   "source": [
    "df = pd.concat([df_ankara,df_bursa,df_antalya])"
   ]
  },
  {
   "cell_type": "code",
   "execution_count": 5,
   "metadata": {},
   "outputs": [],
   "source": [
    "df = df.reset_index(drop=True)"
   ]
  },
  {
   "cell_type": "markdown",
   "metadata": {},
   "source": [
    "Create columns for every distinct specs and distribute these specs to these columns"
   ]
  },
  {
   "cell_type": "code",
   "execution_count": null,
   "metadata": {},
   "outputs": [],
   "source": [
    "# Split the each row of the specs with the \"|??|\" seperator (added when parsing the html)\n",
    "# Then, rewrite it to the specs column\n",
    "for x in df.index:\n",
    "    df['specs'][x] = df['specs'][x].split(\"|??|\")"
   ]
  },
  {
   "cell_type": "code",
   "execution_count": 7,
   "metadata": {},
   "outputs": [],
   "source": [
    "# Create columns for each distinct specs\n",
    "for x in df.index:\n",
    "    for y in range(0, len(df['specs'][x])-1, 2):\n",
    "        column_name = df['specs'][x][y]\n",
    "        df[column_name] = \"\""
   ]
  },
  {
   "cell_type": "code",
   "execution_count": null,
   "metadata": {},
   "outputs": [],
   "source": [
    "# Fill the each distinct spec columns by using the \"specs\" column\n",
    "for x in df.index:\n",
    "    for y in range(0, len(df['specs'][x])-1, 2):\n",
    "        df[df['specs'][x][y]][x] = df['specs'][x][y+1]"
   ]
  },
  {
   "cell_type": "markdown",
   "metadata": {},
   "source": [
    "Clean the column names"
   ]
  },
  {
   "cell_type": "code",
   "execution_count": 9,
   "metadata": {},
   "outputs": [],
   "source": [
    "df.columns = df.columns.str.replace(\",\",\"\")\n",
    "df.columns = df.columns.str.replace(\"'\",\"\")\n",
    "df.columns = df.columns.str.replace(\"[\",\"\")\n",
    "df.columns = df.columns.str.replace(\"]\",\"\")\n",
    "df.columns = df.columns.str.strip()"
   ]
  },
  {
   "cell_type": "markdown",
   "metadata": {},
   "source": [
    "Backup the df"
   ]
  },
  {
   "cell_type": "code",
   "execution_count": 10,
   "metadata": {},
   "outputs": [],
   "source": [
    "df_backup = df.copy(deep=True)"
   ]
  },
  {
   "cell_type": "markdown",
   "metadata": {},
   "source": [
    "General cleaning"
   ]
  },
  {
   "cell_type": "code",
   "execution_count": 11,
   "metadata": {},
   "outputs": [],
   "source": [
    "for x in df.index:\n",
    "    for y in df.columns:\n",
    "        df.loc[x, f\"{y}\"] = re.sub(r\"\\[\",\"\",str(df[f\"{y}\"][x]))\n",
    "        df.loc[x, f\"{y}\"] = re.sub(r\"\\]\",\"\",str(df[f\"{y}\"][x]))\n",
    "        df.loc[x, f\"{y}\"] = re.sub(r\"\\\\n\",\"\",str(df[f\"{y}\"][x]))\n",
    "        df.loc[x, f\"{y}\"] = re.sub(r\"\\n\",\"\",str(df[f\"{y}\"][x]))\n",
    "        df.loc[x, f\"{y}\"] = re.sub(\"\\n\",\"\",str(df[f\"{y}\"][x]))\n",
    "        df.loc[x, f\"{y}\"] = re.sub(r\"\\s\\s\",\"\",str(df[f\"{y}\"][x]))\n",
    "        df.loc[x, f\"{y}\"] = re.sub(r\"\\'\",\"\",str(df[f\"{y}\"][x]))\n",
    "        df.loc[x, f\"{y}\"] = re.sub(r\"\\,\",\"\",str(df[f\"{y}\"][x]))\n",
    "        df.loc[x, f\"{y}\"] = df[f\"{y}\"][x].strip()"
   ]
  },
  {
   "cell_type": "markdown",
   "metadata": {},
   "source": [
    "Drop the unnecessary columns"
   ]
  },
  {
   "cell_type": "code",
   "execution_count": 12,
   "metadata": {},
   "outputs": [],
   "source": [
    "df = df.drop(['title', 'specs', 'description', 'properties', 'İlan no', 'Son Güncelleme Tarihi', 'İlan Durumu',\n",
    "       'Konut Tipi', 'Konut Şekli', 'Aidat', 'Depozito', 'Yakıt Tipi', 'Site İçerisinde',\n",
    "       \"Kira Getirisi\", \"Takas\", \"Parsel No\",\"Krediye Uygunluk\", \"Ada No\",\n",
    "       \"Cephe\", \"Tapu Durumu\", \"Kullanım Durumu\", \"Yapı Tipi\"], axis='columns')"
   ]
  },
  {
   "cell_type": "markdown",
   "metadata": {},
   "source": [
    "Turn prices to numbers"
   ]
  },
  {
   "cell_type": "code",
   "execution_count": 13,
   "metadata": {},
   "outputs": [],
   "source": [
    "df['price'] = df['price'].str.replace(\".\",\"\")\n",
    "df['price'] = df['price'].str.replace(\" TL\",\"\")\n",
    "df['price'] = pd.to_numeric(df['price'])"
   ]
  },
  {
   "cell_type": "markdown",
   "metadata": {},
   "source": [
    "Create the \"rooms\" columns and extract number of rooms from the \"Oda + Salon Sayısı\" column, then delete the 'Oda + Salon Sayısı'column"
   ]
  },
  {
   "cell_type": "code",
   "execution_count": null,
   "metadata": {},
   "outputs": [],
   "source": [
    "df['rooms'] = \"\"\n",
    "df['salon'] = \"\"\n",
    "\n",
    "for x in df.index:\n",
    "        df['Oda + Salon Sayısı'][x] = df['Oda + Salon Sayısı'][x].split(\" + \")\n",
    "        df['rooms'][x] = df['Oda + Salon Sayısı'][x][0]\n",
    "        df['salon'][x] = df['Oda + Salon Sayısı'][x][1]"
   ]
  },
  {
   "cell_type": "code",
   "execution_count": 16,
   "metadata": {},
   "outputs": [],
   "source": [
    "df = df.drop(['Oda + Salon Sayısı'], axis='columns')"
   ]
  },
  {
   "cell_type": "markdown",
   "metadata": {},
   "source": [
    "Backup the df"
   ]
  },
  {
   "cell_type": "code",
   "execution_count": 19,
   "metadata": {},
   "outputs": [],
   "source": [
    "df_backup2 = df.copy(deep=True)"
   ]
  },
  {
   "cell_type": "markdown",
   "metadata": {},
   "source": [
    "Clean the 'Brüt / Net M2' column and create seperate columns for the Brüt and Net M2"
   ]
  },
  {
   "cell_type": "code",
   "execution_count": 36,
   "metadata": {},
   "outputs": [],
   "source": [
    "df['Brüt / Net M2'] = df['Brüt / Net M2'].astype(str)"
   ]
  },
  {
   "cell_type": "code",
   "execution_count": 37,
   "metadata": {},
   "outputs": [],
   "source": [
    "for x in df.index:\n",
    "        df.loc[x, 'Brüt / Net M2'] = re.sub(r\"\\[\",\"\",str(df['Brüt / Net M2'][x]))\n",
    "        df.loc[x, 'Brüt / Net M2'] = re.sub(r\"\\]\",\"\",str(df['Brüt / Net M2'][x]))\n",
    "        df.loc[x, 'Brüt / Net M2'] = re.sub(r\"\\'\",\"\",str(df['Brüt / Net M2'][x]))\n",
    "        df.loc[x, 'Brüt / Net M2'] = re.sub(r'\\\"',\"\",str(df['Brüt / Net M2'][x]))"
   ]
  },
  {
   "cell_type": "code",
   "execution_count": 43,
   "metadata": {},
   "outputs": [],
   "source": [
    "for x in df.index:\n",
    "        df.loc[x, 'Brüt / Net M2'] = re.sub(r\"\\s\",\"\",str(df['Brüt / Net M2'][x]))\n",
    "        df.loc[x, 'Brüt / Net M2'] = re.sub(r\"m2\",\"\",str(df['Brüt / Net M2'][x]))"
   ]
  },
  {
   "cell_type": "code",
   "execution_count": null,
   "metadata": {},
   "outputs": [],
   "source": [
    "df['area'] = \"\"\n",
    "df['net area'] = \"\"\n",
    "\n",
    "for x in df.index:\n",
    "        df['Brüt / Net M2'][x] = df['Brüt / Net M2'][x].split(\"/\")\n",
    "        df['area'][x] = df['Brüt / Net M2'][x][0]\n",
    "        df['net area'][x] = df['Brüt / Net M2'][x][1]"
   ]
  },
  {
   "cell_type": "code",
   "execution_count": 48,
   "metadata": {},
   "outputs": [],
   "source": [
    "df = df.drop(['Brüt / Net M2'], axis='columns')"
   ]
  },
  {
   "cell_type": "markdown",
   "metadata": {},
   "source": [
    "Delete strings from the \"Bina Yaşı\" and change data type"
   ]
  },
  {
   "cell_type": "code",
   "execution_count": 50,
   "metadata": {},
   "outputs": [],
   "source": [
    "for x in df.index:\n",
    "        df.loc[x, 'Bina Yaşı'] = re.sub(r\"\\s\",\"\",str(df['Bina Yaşı'][x]))\n",
    "        df.loc[x, 'Bina Yaşı'] = re.sub(r\"Yaşında\",\"\",str(df['Bina Yaşı'][x]))"
   ]
  },
  {
   "cell_type": "code",
   "execution_count": 56,
   "metadata": {},
   "outputs": [],
   "source": [
    "for x in df.index:\n",
    "    if df.loc[x, 'Bina Yaşı'] == \"SıfırBina\":\n",
    "        df.loc[x, 'Bina Yaşı'] = \"0\""
   ]
  },
  {
   "cell_type": "code",
   "execution_count": 59,
   "metadata": {},
   "outputs": [],
   "source": [
    "df[\"Bina Yaşı\"] = pd.to_numeric(df[\"Bina Yaşı\"])"
   ]
  },
  {
   "cell_type": "markdown",
   "metadata": {},
   "source": [
    "Delete strings from the \"Kat Sayısı\t\" and change data type"
   ]
  },
  {
   "cell_type": "code",
   "execution_count": 66,
   "metadata": {},
   "outputs": [],
   "source": [
    "for x in df.index:\n",
    "        df.loc[x, 'Kat Sayısı'] = re.sub(r\"\\s\",\"\",str(df['Kat Sayısı'][x]))\n",
    "        df.loc[x, 'Kat Sayısı'] = re.sub(r\"Katlı\",\"\",str(df['Kat Sayısı'][x]))"
   ]
  },
  {
   "cell_type": "markdown",
   "metadata": {},
   "source": [
    "Turn some data to English"
   ]
  },
  {
   "cell_type": "code",
   "execution_count": 79,
   "metadata": {},
   "outputs": [],
   "source": [
    "df.rename(columns={\n",
    "    'Bulunduğu Kat': 'floor',\n",
    "    'Bina Yaşı': 'age',\n",
    "    \"Isınma Tipi\": \"heating_type\",\n",
    "    \"Kat Sayısı\": \"total_floors\",\n",
    "    \"Eşya Durumu\" : \"furnished_house\",\n",
    "    \"Banyo Sayısı\" : \"baths\",\n",
    "    }, inplace=True)"
   ]
  },
  {
   "cell_type": "code",
   "execution_count": 83,
   "metadata": {},
   "outputs": [],
   "source": [
    "df = df.drop(\"Yapının Durumu\", axis='columns')"
   ]
  },
  {
   "cell_type": "code",
   "execution_count": 100,
   "metadata": {},
   "outputs": [],
   "source": [
    "for x in df.index:\n",
    "    df.loc[x, 'floor'] = re.sub(r\"Katı\",\"floor\",str(df['floor'][x]))\n",
    "    df.loc[x, 'floor'] = re.sub(r\"Kat\",\"floor\",str(df['floor'][x]))\n",
    "    df.loc[x, 'floor'] = re.sub(r\"Ara\",\"Middle\",str(df['floor'][x]))\n",
    "    df.loc[x, 'floor'] = re.sub(r\"Zemin\",\"Ground floor\",str(df['floor'][x]))\n",
    "    df.loc[x, 'floor'] = re.sub(r\"En Üst\",\"Last floor\",str(df['floor'][x]))\n",
    "    df.loc[x, 'floor'] = re.sub(r\"Yüksek Giriş\",\"High entrance\",str(df['floor'][x]))\n",
    "    df.loc[x, 'floor'] = re.sub(r\"Kot 1\",\"-1\",str(df['floor'][x]))\n",
    "    df.loc[x, 'floor'] = re.sub(r\"Bahçe\",\"Garden\",str(df['floor'][x]))\n",
    "    df.loc[x, 'floor'] = re.sub(r\"Giriş\",\"Entrance\",str(df['floor'][x]))\n",
    "    df.loc[x, 'floor'] = re.sub(r\"Kot 3\",\"-3\",str(df['floor'][x]))\n",
    "    df.loc[x, 'floor'] = re.sub(r\"Çatı\",\"Roof\",str(df['floor'][x]))\n",
    "    df.loc[x, 'floor'] = re.sub(r\"Kot 2\",\"-2\",str(df['floor'][x]))\n",
    "    df.loc[x, 'floor'] = re.sub(r\"Teras Giriş\",\"Terrace\",str(df['floor'][x]))\n",
    "    df.loc[x, 'floor'] = re.sub(r\"Bodrum\",\"-1\",str(df['floor'][x]))\n",
    "    df.loc[x, 'floor'] = re.sub(r\"Yarı Bodrum\",\"-1\",str(df['floor'][x]))\n",
    "    df.loc[x, 'floor'] = re.sub(r\"Bodrum ve Zemin\",\"-1\",str(df['floor'][x]))\n",
    "    df.loc[x, 'floor'] = re.sub(r\"Villa\",\"1.\",str(df['floor'][x]))\n",
    "    df.loc[x, 'floor'] = re.sub(r\"-1 floor\",\"-1\",str(df['floor'][x]))\n",
    "    df.loc[x, 'floor'] = re.sub(r\" ve üzeri\",\"-\",str(df['floor'][x]))\n",
    "    df.loc[x, 'floor'] = re.sub(r\"Yarı\",\"-1\",str(df['floor'][x]))\n",
    "    df.loc[x, 'floor'] = re.sub(r\" ve Ground floor\",\"\",str(df['floor'][x]))"
   ]
  },
  {
   "cell_type": "markdown",
   "metadata": {},
   "source": [
    "Drop some outliers by cheking them with df['column_name'].unique() and sort_value and change data types"
   ]
  },
  {
   "cell_type": "code",
   "execution_count": 131,
   "metadata": {},
   "outputs": [],
   "source": [
    "df = df.drop(df[df[\"price\"]>1000000].index)"
   ]
  },
  {
   "cell_type": "code",
   "execution_count": 142,
   "metadata": {},
   "outputs": [],
   "source": [
    "df = df.drop(df[df[\"floor\"]==\"\"].index)"
   ]
  },
  {
   "cell_type": "code",
   "execution_count": 151,
   "metadata": {},
   "outputs": [],
   "source": [
    "df['age'] = df['age'].astype(int)\n",
    "df = df.drop(df[df[\"age\"]>99].index)"
   ]
  },
  {
   "cell_type": "code",
   "execution_count": 156,
   "metadata": {},
   "outputs": [],
   "source": [
    "df = df.drop(df[df[\"total_floors\"]==\"\"].index)\n",
    "df['total_floors'] = df['total_floors'].astype(int)\n",
    "df = df.drop(df[df[\"total_floors\"]>99].index)"
   ]
  },
  {
   "cell_type": "code",
   "execution_count": 161,
   "metadata": {},
   "outputs": [],
   "source": [
    "df['rooms'] = df['rooms'].astype(int)\n",
    "df = df.drop(df[df[\"rooms\"]>9].index)"
   ]
  },
  {
   "cell_type": "code",
   "execution_count": 164,
   "metadata": {},
   "outputs": [],
   "source": [
    "df['salon'] = df['salon'].astype(int)\n",
    "df = df.drop(df[df[\"salon\"]>9].index)"
   ]
  },
  {
   "cell_type": "code",
   "execution_count": 171,
   "metadata": {},
   "outputs": [],
   "source": [
    "df = df.drop(df[df[\"area\"]==\"1.358\"].index)\n",
    "df = df.drop(df[df[\"area\"]==\"175.000\"].index)\n",
    "df = df.drop(df[df[\"area\"]==\"2.000\"].index)\n",
    "df = df.drop(df[df[\"area\"]==\"38.000\"].index)\n",
    "df = df.drop(df[df[\"area\"]==\"1.130\"].index)"
   ]
  },
  {
   "cell_type": "code",
   "execution_count": 182,
   "metadata": {},
   "outputs": [],
   "source": [
    "df['area'] = df['area'].astype(int)\n",
    "df['net area'] = df['net area'].astype(int)"
   ]
  },
  {
   "cell_type": "markdown",
   "metadata": {},
   "source": [
    "Save as csv file"
   ]
  },
  {
   "cell_type": "code",
   "execution_count": 184,
   "metadata": {},
   "outputs": [],
   "source": [
    "df.to_csv(r\"D:\\repositories\\repositories\\data_analysis&science\\HouseRentingPrices\\cleaned_data.csv\", index = False)"
   ]
  }
 ],
 "metadata": {
  "kernelspec": {
   "display_name": "mainEnv",
   "language": "python",
   "name": "python3"
  },
  "language_info": {
   "codemirror_mode": {
    "name": "ipython",
    "version": 3
   },
   "file_extension": ".py",
   "mimetype": "text/x-python",
   "name": "python",
   "nbconvert_exporter": "python",
   "pygments_lexer": "ipython3",
   "version": "3.12.5"
  }
 },
 "nbformat": 4,
 "nbformat_minor": 2
}
